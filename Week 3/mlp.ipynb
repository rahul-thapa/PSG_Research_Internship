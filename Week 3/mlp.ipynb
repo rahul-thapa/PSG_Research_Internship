{
  "nbformat": 4,
  "nbformat_minor": 0,
  "metadata": {
    "colab": {
      "name": "MLP.ipynb",
      "provenance": [],
      "collapsed_sections": []
    },
    "kernelspec": {
      "display_name": "Python 3",
      "name": "python3"
    }
  },
  "cells": [
    {
      "cell_type": "markdown",
      "metadata": {
        "id": "9Vig-0MyZwdY"
      },
      "source": [
        "# **Multi Layer Perceptron or MLP**\n",
        "\n",
        "In this code, we have made a model based on the multi layer percceptron of MLP which is based on Deep Neural Networks. "
      ]
    },
    {
      "cell_type": "markdown",
      "metadata": {
        "id": "R37BvefKMI7G"
      },
      "source": [
        "Importing all the necessary packages and libraries for the model"
      ]
    },
    {
      "cell_type": "code",
      "metadata": {
        "id": "tUAOjjMxrCSq"
      },
      "source": [
        "import numpy as np\n",
        "import tensorflow as tf\n",
        "from tensorflow import keras\n",
        "from tensorflow.keras import Model\n",
        "from tensorflow.keras.layers import Input, Dense, Concatenate, Embedding, Dropout, BatchNormalization\n",
        "from tensorflow.keras.optimizers import Adam,Nadam,Ftrl,SGD,Adadelta,Adamax,Adagrad,RMSprop\n",
        "from tensorflow.keras.utils import Sequence\n",
        "from tensorflow.keras.regularizers import l2, l1, l1_l2\n",
        "from tensorflow.keras.initializers import RandomUniform, lecun_uniform,he_uniform\n",
        "import math"
      ],
      "execution_count": null,
      "outputs": []
    },
    {
      "cell_type": "markdown",
      "metadata": {
        "id": "BcEu9f58MOOg"
      },
      "source": [
        "Importing pandas and reading the data from the csv file"
      ]
    },
    {
      "cell_type": "code",
      "metadata": {
        "id": "uEEJbBEvsGfC"
      },
      "source": [
        "import pandas as pd\n",
        "col_list = [\"U_ID\", \"P_ID\", \"RATING\"]\n",
        "dataset = pd.read_csv('rating.csv',usecols=col_list, sep='\\t',dtype='int')"
      ],
      "execution_count": null,
      "outputs": []
    },
    {
      "cell_type": "markdown",
      "metadata": {
        "id": "a94_tq1_M0XP"
      },
      "source": [
        "This block and the next block of code deals with extracting the unique User IDs from the dataset and mapping them with their index number and storing it in a dictionary"
      ]
    },
    {
      "cell_type": "code",
      "metadata": {
        "id": "0T3fv3vAtFEL"
      },
      "source": [
        "#To get the unique user ids from dataset and feeding it to the dictionary\n",
        "user_ids = dataset['U_ID'].values\n",
        "unique_ids = np.unique(user_ids)\n",
        "id_dict = {id: counter for counter, id in enumerate(unique_ids)}\n",
        "#enumerate(unique_ids) : assigning unique IDs to each element in the dataset\n",
        "dataset['U_ID'] = dataset['U_ID'].apply(lambda x: id_dict[x])"
      ],
      "execution_count": null,
      "outputs": []
    },
    {
      "cell_type": "code",
      "metadata": {
        "id": "1Kmgrt0HtIj6"
      },
      "source": [
        "#To get the unique product ids from dataset and storing it as array. \n",
        "product_ids = dataset['P_ID'].values\n",
        "unique_ids = np.unique(product_ids)\n",
        "#create a dictionary of users with key value from 0 to #users and  enumerate the product ids\n",
        "id_dict = {id: counter for counter, id in enumerate(unique_ids)}\n",
        "dataset['P_ID'] = dataset['P_ID'].apply(lambda x: id_dict[x])"
      ],
      "execution_count": null,
      "outputs": []
    },
    {
      "cell_type": "markdown",
      "metadata": {
        "id": "S9J9JSMkNE9K"
      },
      "source": [
        "Taking the latent factors for matrix factorization as 20. Also taking the number of unique users and products"
      ]
    },
    {
      "cell_type": "code",
      "metadata": {
        "id": "f1JPh8cPtTmK"
      },
      "source": [
        "# getting the total number of users and movies from the dataset\n",
        "n_users = len(dataset.U_ID.unique())\n",
        "n_movies = len(dataset.P_ID.unique())\n",
        "n_latent_factors=20"
      ],
      "execution_count": null,
      "outputs": []
    },
    {
      "cell_type": "markdown",
      "metadata": {
        "id": "1goUhdzyNVGa"
      },
      "source": [
        "**Movie input and embedding** : take movie_input which is a single number, representing the movie ID and turn it into vector with the keras Embedding layer.\n",
        "\n",
        "**User input and embedding** : take user_input which is a single number, representing the user ID and turn it into vector with the keras Embedding layer."
      ]
    },
    {
      "cell_type": "code",
      "metadata": {
        "id": "33yW1KEmrYcE"
      },
      "source": [
        "movie_input = keras.layers.Input(shape=[1],name='Item')\n",
        "movie_embedding = keras.layers.Embedding(n_movies, n_latent_factors, \n",
        "                                          embeddings_initializer=\"uniform\", \n",
        "                                          embeddings_regularizer=l2(1e-6), \n",
        "                                          embeddings_constraint='NonNeg',\n",
        "                                          name='Movie-Embedding')(movie_input)\n",
        "movie_vec = keras.layers.Flatten(name='FlattenMovies')(movie_embedding)\n",
        " \n",
        "user_input = keras.layers.Input(shape=[1],name='User')\n",
        "user_embedding = keras.layers.Embedding(n_users, n_latent_factors, \n",
        "                                          embeddings_initializer=\"uniform\", \n",
        "                                          embeddings_regularizer=l2(1e-6), \n",
        "                                          embeddings_constraint='NonNeg',\n",
        "                                          name='User-Embedding')(user_input)\n",
        "user_vec = keras.layers.Flatten(name='FlattenUsers')(user_embedding)\n"
      ],
      "execution_count": null,
      "outputs": []
    },
    {
      "cell_type": "markdown",
      "metadata": {
        "id": "KVrZFIJoPhJY"
      },
      "source": [
        "Movie and user input is concatenated.\n",
        "\n",
        "**MLP with 6 layers** : putting them through a simple dense neural network, with dropout and batch normalization. Finally take the result with softmax, and compile it all."
      ]
    },
    {
      "cell_type": "code",
      "metadata": {
        "id": "1v_4y7xYrcVD"
      },
      "source": [
        "#concatenating movie and user input and embedding\n",
        "concat = keras.layers.concatenate([movie_vec, user_vec])\n",
        "#mlp with 6 layers\n",
        "mlp = concat\n",
        "for i in range(6,-1,-1):\n",
        "    if i == 0:\n",
        "      mlp = Dense(8**i, activation='softmax', kernel_initializer='lecun_uniform',\n",
        "                  name=\"output\")(mlp)\n",
        "    else:\n",
        "      mlp = Dense(8*2**i, activation='relu', kernel_initializer='he_uniform')(mlp)\n",
        "      if i > 5:\n",
        "        mlp = BatchNormalization()(mlp)\n",
        "        mlp = Dropout(0.05)(mlp)\n",
        "mlp\n",
        "model = Model(inputs=[user_input, movie_input], outputs=[mlp])\n",
        "model.compile('sgd', loss='mean_squared_error', metrics=['mae', 'mse'])"
      ],
      "execution_count": null,
      "outputs": []
    },
    {
      "cell_type": "markdown",
      "metadata": {
        "id": "Id76WL-IZHCx"
      },
      "source": [
        "**Importing train_test_split from sklearn and splitting data arrays into two subsets**: for training data and for testing data.\n",
        "\n",
        "The model is fit and trained here."
      ]
    },
    {
      "cell_type": "code",
      "metadata": {
        "id": "GInJTaBBr7Kb",
        "outputId": "7f1a08e5-4f14-46ff-b60a-9158b5a68b7d",
        "colab": {
          "base_uri": "https://localhost:8080/",
          "height": 406
        }
      },
      "source": [
        "from sklearn.model_selection import train_test_split\n",
        "train, test = train_test_split(dataset, test_size=0.2, random_state=42)\n",
        "history = model.fit([train.U_ID, train.P_ID], train.RATING, epochs=10, verbose=1)"
      ],
      "execution_count": null,
      "outputs": [
        {
          "output_type": "stream",
          "text": [
            "Epoch 1/10\n"
          ],
          "name": "stdout"
        },
        {
          "output_type": "stream",
          "text": [
            "/usr/local/lib/python3.6/dist-packages/tensorflow/python/framework/indexed_slices.py:432: UserWarning: Converting sparse IndexedSlices to a dense Tensor of unknown shape. This may consume a large amount of memory.\n",
            "  \"Converting sparse IndexedSlices to a dense Tensor of unknown shape. \"\n"
          ],
          "name": "stderr"
        },
        {
          "output_type": "stream",
          "text": [
            "7103/7103 [==============================] - 231s 32ms/step - loss: 11.1252 - mae: 3.1627 - mse: 11.1250\n",
            "Epoch 2/10\n",
            "7103/7103 [==============================] - 233s 33ms/step - loss: 11.1252 - mae: 3.1627 - mse: 11.1250\n",
            "Epoch 3/10\n",
            "7103/7103 [==============================] - 220s 31ms/step - loss: 11.1252 - mae: 3.1627 - mse: 11.1250\n",
            "Epoch 4/10\n",
            "7103/7103 [==============================] - 218s 31ms/step - loss: 11.1252 - mae: 3.1627 - mse: 11.1250\n",
            "Epoch 5/10\n",
            "7103/7103 [==============================] - 217s 31ms/step - loss: 11.1252 - mae: 3.1627 - mse: 11.1250\n",
            "Epoch 6/10\n",
            "7103/7103 [==============================] - 214s 30ms/step - loss: 11.1252 - mae: 3.1627 - mse: 11.1250\n",
            "Epoch 7/10\n",
            "7103/7103 [==============================] - 211s 30ms/step - loss: 11.1252 - mae: 3.1627 - mse: 11.1250\n",
            "Epoch 8/10\n",
            "7103/7103 [==============================] - 216s 30ms/step - loss: 11.1252 - mae: 3.1627 - mse: 11.1250\n",
            "Epoch 9/10\n",
            "7103/7103 [==============================] - 214s 30ms/step - loss: 11.1252 - mae: 3.1627 - mse: 11.1250\n",
            "Epoch 10/10\n",
            "7103/7103 [==============================] - 213s 30ms/step - loss: 11.1252 - mae: 3.1627 - mse: 11.1250\n"
          ],
          "name": "stdout"
        }
      ]
    },
    {
      "cell_type": "markdown",
      "metadata": {
        "id": "RfLcXZI64XQh"
      },
      "source": [
        "Gives the summary of the model"
      ]
    },
    {
      "cell_type": "code",
      "metadata": {
        "id": "Zs0g13YH4U8W",
        "outputId": "2fc3f0c3-ab6f-42ef-956d-1a8120f25d7d",
        "colab": {
          "base_uri": "https://localhost:8080/",
          "height": 706
        }
      },
      "source": [
        "model.summary()"
      ],
      "execution_count": null,
      "outputs": [
        {
          "output_type": "stream",
          "text": [
            "Model: \"functional_7\"\n",
            "__________________________________________________________________________________________________\n",
            "Layer (type)                    Output Shape         Param #     Connected to                     \n",
            "==================================================================================================\n",
            "Item (InputLayer)               [(None, 1)]          0                                            \n",
            "__________________________________________________________________________________________________\n",
            "User (InputLayer)               [(None, 1)]          0                                            \n",
            "__________________________________________________________________________________________________\n",
            "Movie-Embedding (Embedding)     (None, 1, 20)        2102280     Item[0][0]                       \n",
            "__________________________________________________________________________________________________\n",
            "User-Embedding (Embedding)      (None, 1, 20)        147500      User[0][0]                       \n",
            "__________________________________________________________________________________________________\n",
            "FlattenMovies (Flatten)         (None, 20)           0           Movie-Embedding[0][0]            \n",
            "__________________________________________________________________________________________________\n",
            "FlattenUsers (Flatten)          (None, 20)           0           User-Embedding[0][0]             \n",
            "__________________________________________________________________________________________________\n",
            "concatenate_3 (Concatenate)     (None, 40)           0           FlattenMovies[0][0]              \n",
            "                                                                 FlattenUsers[0][0]               \n",
            "__________________________________________________________________________________________________\n",
            "dense_18 (Dense)                (None, 512)          20992       concatenate_3[0][0]              \n",
            "__________________________________________________________________________________________________\n",
            "batch_normalization_3 (BatchNor (None, 512)          2048        dense_18[0][0]                   \n",
            "__________________________________________________________________________________________________\n",
            "dropout_3 (Dropout)             (None, 512)          0           batch_normalization_3[0][0]      \n",
            "__________________________________________________________________________________________________\n",
            "dense_19 (Dense)                (None, 256)          131328      dropout_3[0][0]                  \n",
            "__________________________________________________________________________________________________\n",
            "dense_20 (Dense)                (None, 128)          32896       dense_19[0][0]                   \n",
            "__________________________________________________________________________________________________\n",
            "dense_21 (Dense)                (None, 64)           8256        dense_20[0][0]                   \n",
            "__________________________________________________________________________________________________\n",
            "dense_22 (Dense)                (None, 32)           2080        dense_21[0][0]                   \n",
            "__________________________________________________________________________________________________\n",
            "dense_23 (Dense)                (None, 16)           528         dense_22[0][0]                   \n",
            "__________________________________________________________________________________________________\n",
            "output (Dense)                  (None, 1)            17          dense_23[0][0]                   \n",
            "==================================================================================================\n",
            "Total params: 2,447,925\n",
            "Trainable params: 2,446,901\n",
            "Non-trainable params: 1,024\n",
            "__________________________________________________________________________________________________\n"
          ],
          "name": "stdout"
        }
      ]
    },
    {
      "cell_type": "markdown",
      "metadata": {
        "id": "VwvDhGUQZN1l"
      },
      "source": [
        "Importing plot_model from keras and plotting the model"
      ]
    },
    {
      "cell_type": "code",
      "metadata": {
        "id": "ue5X_atY6RtI",
        "outputId": "182bf5d3-c792-4146-9b0d-636ef43e4fe0",
        "colab": {
          "base_uri": "https://localhost:8080/",
          "height": 1000
        }
      },
      "source": [
        "from keras.utils.vis_utils import plot_model\n",
        "tf.keras.utils.plot_model(\n",
        "    model, show_shapes=False, show_layer_names=True,\n",
        "    rankdir='TB', expand_nested=False, dpi=96\n",
        ")"
      ],
      "execution_count": null,
      "outputs": [
        {
          "output_type": "execute_result",
          "data": {
            "image/png": "[encoded data removed]",
            "text/plain": [
              "<IPython.core.display.Image object>"
            ]
          },
          "metadata": {
            "tags": []
          },
          "execution_count": 40
        }
      ]
    },
    {
      "cell_type": "markdown",
      "metadata": {
        "id": "lyoylBIHZXMl"
      },
      "source": [
        "To evaluate the test portion of the dataset and gives the loss in terms of mae and mse."
      ]
    },
    {
      "cell_type": "code",
      "metadata": {
        "id": "MjijmS407pcU",
        "outputId": "4deb94d3-5918-4618-a4cf-907b1667d88a",
        "colab": {
          "base_uri": "https://localhost:8080/",
          "height": 34
        }
      },
      "source": [
        "results = model.evaluate([test.U_ID,test.P_ID],test.RATING, batch_size=1)"
      ],
      "execution_count": null,
      "outputs": [
        {
          "output_type": "stream",
          "text": [
            "56818/56818 [==============================] - 308s 5ms/step - loss: 11.0873 - mae: 3.1546 - mse: 11.0872\n"
          ],
          "name": "stdout"
        }
      ]
    },
    {
      "cell_type": "markdown",
      "metadata": {
        "id": "gjSgpc-Q4fIF"
      },
      "source": [
        "Retrieves a layer based on either its name (unique) or index."
      ]
    },
    {
      "cell_type": "code",
      "metadata": {
        "id": "RZJBKo6J8jC7"
      },
      "source": [
        "#get_weights() Returns the current weights of the layer.\n",
        "product_embedding_learnt = model.get_layer(name='Movie-Embedding').get_weights()[0]"
      ],
      "execution_count": null,
      "outputs": []
    },
    {
      "cell_type": "code",
      "metadata": {
        "id": "WMgawgIG3VuF"
      },
      "source": [
        "user_embedding_learnt = model.get_layer(name='User-Embedding').get_weights()[0]"
      ],
      "execution_count": null,
      "outputs": []
    },
    {
      "cell_type": "markdown",
      "metadata": {
        "id": "pJCT1bKe4mvj"
      },
      "source": [
        "**Param user_id**: The unique U_ID\n",
        "\n",
        "**Param number_of_products**: (default = 5), The number of predictions to choose based on relevancy"
      ]
    },
    {
      "cell_type": "code",
      "metadata": {
        "id": "lwWtD5fw3Xb4"
      },
      "source": [
        "def recommend(user_id, number_of_products=5):\n",
        "  products = user_embedding_learnt[user_id]@product_embedding_learnt.T\n",
        "  mids = np.argpartition(products, -number_of_products)[-number_of_products:]\n",
        "  return mids"
      ],
      "execution_count": null,
      "outputs": []
    },
    {
      "cell_type": "markdown",
      "metadata": {
        "id": "fmKKg6K-4sLu"
      },
      "source": [
        "Displaying recommendations"
      ]
    },
    {
      "cell_type": "code",
      "metadata": {
        "id": "6wIem8Op3Y4s",
        "outputId": "f5852e62-84ea-4330-cf09-c584147deacd",
        "colab": {
          "base_uri": "https://localhost:8080/",
          "height": 34
        }
      },
      "source": [
        "recommend(user_id=1)"
      ],
      "execution_count": null,
      "outputs": [
        {
          "output_type": "execute_result",
          "data": {
            "text/plain": [
              "array([ 4188, 81597, 64774, 67832, 69915])"
            ]
          },
          "metadata": {
            "tags": []
          },
          "execution_count": 45
        }
      ]
    }
  ]
}