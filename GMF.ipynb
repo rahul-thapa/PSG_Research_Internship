{
 "cells": [
  {
   "cell_type": "code",
   "execution_count": 1,
   "metadata": {},
   "outputs": [],
   "source": [
    "import numpy as np\n",
    "import tensorflow as tf\n",
    "import pandas as pd"
   ]
  },
  {
   "cell_type": "code",
   "execution_count": 2,
   "metadata": {},
   "outputs": [],
   "source": [
    "import pandas as pd\n",
    "col_list = [\"U_ID\", \"P_ID\", \"RATING\"]\n",
    "dataset = pd.read_csv('Dataset/Ciao/rating.csv',usecols=col_list, sep='\\t',dtype='int')"
   ]
  },
  {
   "cell_type": "code",
   "execution_count": 3,
   "metadata": {},
   "outputs": [],
   "source": [
    "#to get the unique user ids from dataset\n",
    "user_ids = dataset['U_ID'].values\n",
    "unique_ids = np.unique(user_ids)\n",
    "id_dict = {id: counter for counter, id in enumerate(unique_ids)}\n",
    "#enumerate(unique_ids)\n",
    "dataset['U_ID'] = dataset['U_ID'].apply(lambda x: id_dict[x])"
   ]
  },
  {
   "cell_type": "code",
   "execution_count": 4,
   "metadata": {},
   "outputs": [],
   "source": [
    "#to get the unique product ids from dataset\n",
    "product_ids = dataset['P_ID'].values\n",
    "unique_ids = np.unique(product_ids)\n",
    "#create a dictionary of users with key value from 0 to #users\n",
    "id_dict = {id: counter for counter, id in enumerate(unique_ids)}\n",
    "dataset['P_ID'] = dataset['P_ID'].apply(lambda x: id_dict[x])"
   ]
  },
  {
   "cell_type": "code",
   "execution_count": 5,
   "metadata": {},
   "outputs": [],
   "source": [
    "from sklearn.model_selection import train_test_split\n",
    "train, test = train_test_split(dataset, test_size=0.2, random_state=42)\n",
    "n_users = len(dataset.U_ID.unique())\n",
    "n_products = len(dataset.P_ID.unique())"
   ]
  },
  {
   "cell_type": "code",
   "execution_count": 6,
   "metadata": {},
   "outputs": [
    {
     "name": "stderr",
     "output_type": "stream",
     "text": [
      "Using TensorFlow backend.\n"
     ]
    }
   ],
   "source": [
    "from keras.layers import Input, Embedding, Flatten, Dot, Dense\n",
    "from keras.models import Model"
   ]
  },
  {
   "cell_type": "code",
   "execution_count": 7,
   "metadata": {},
   "outputs": [
    {
     "name": "stdout",
     "output_type": "stream",
     "text": [
      "WARNING:tensorflow:From C:\\Users\\Vani Kandhasamy\\Anaconda3\\lib\\site-packages\\tensorflow\\python\\ops\\resource_variable_ops.py:435: colocate_with (from tensorflow.python.framework.ops) is deprecated and will be removed in a future version.\n",
      "Instructions for updating:\n",
      "Colocations handled automatically by placer.\n"
     ]
    }
   ],
   "source": [
    "#Input() is used to instantiate a Keras tensor.\n",
    "user_input = Input(shape=[1], name=\"User-Input\")\n",
    "#Embedding(input_dim,output_dim), here latent_factor for user is consider to be 5 \n",
    "user_embedding = Embedding(n_users+1, 5, name=\"User-Embedding\")(user_input)\n",
    "#Flattening a tensor means to remove all of the dimensions except for one. This is exactly what the Flatten layer do.\n",
    "user_vec = Flatten(name=\"Flatten-Users\")(user_embedding)"
   ]
  },
  {
   "cell_type": "code",
   "execution_count": 8,
   "metadata": {},
   "outputs": [],
   "source": [
    "product_input = Input(shape=[1], name=\"Product-Input\")\n",
    "product_embedding = Embedding(n_products+1, 5, name=\"Product-Embedding\")(product_input)\n",
    "product_vec = Flatten(name=\"Flatten-Products\")(product_embedding)"
   ]
  },
  {
   "cell_type": "code",
   "execution_count": 9,
   "metadata": {},
   "outputs": [],
   "source": [
    "#Layer that computes a dot product between samples in two tensors.\n",
    "prod = Dot(name=\"Dot-Product\", axes=1)([product_vec, user_vec])\n",
    "#Model groups layers into an object with training and inference features.Model(input,output)\n",
    "model = Model([user_input, product_input], prod)\n",
    "#Configures the model for training.compile(optimizer, loss, metrics)\n",
    "model.compile('adam', loss='mean_squared_error', metrics=['mae', 'mse'])"
   ]
  },
  {
   "cell_type": "code",
   "execution_count": 10,
   "metadata": {},
   "outputs": [
    {
     "name": "stdout",
     "output_type": "stream",
     "text": [
      "WARNING:tensorflow:From C:\\Users\\Vani Kandhasamy\\Anaconda3\\lib\\site-packages\\tensorflow\\python\\ops\\math_ops.py:3066: to_int32 (from tensorflow.python.ops.math_ops) is deprecated and will be removed in a future version.\n",
      "Instructions for updating:\n",
      "Use tf.cast instead.\n",
      "Epoch 1/10\n",
      "227268/227268 [==============================] - 86s 378us/step - loss: 18.2948 - mae: 4.1427 - mse: 18.29488s - loss: 18.3424 - mae: 4.1489 - mse: 1 - ETA: 8s -\n",
      "Epoch 2/10\n",
      "227268/227268 [==============================] - 87s 382us/step - loss: 15.7790 - mae: 3.7811 - mse: 15.77902s - lo - ETA: 0s - loss: 15.7857 - mae: 3.7822 - mse: \n",
      "Epoch 3/10\n",
      "227268/227268 [==============================] - 93s 410us/step - loss: 12.0238 - mae: 3.1721 - mse: 12.02382s\n",
      "Epoch 4/10\n",
      "227268/227268 [==============================] - 97s 427us/step - loss: 6.7748 - mae: 2.1963 - mse: 6.7748\n",
      "Epoch 6/10\n",
      "227268/227268 [==============================] - 94s 416us/step - loss: 5.1472 - mae: 1.8550 - mse: 5.1473\n",
      "Epoch 7/10\n",
      "227268/227268 [==============================] - 98s 429us/step - loss: 3.9296 - mae: 1.5800 - mse: 3.9297\n",
      "Epoch 8/10\n",
      "227268/227268 [==============================] - 86s 376us/step - loss: 3.0110 - mae: 1.3550 - mse: 3.0110\n",
      "Epoch 9/10\n",
      "227268/227268 [==============================] - 88s 385us/step - loss: 2.3185 - mae: 1.1705 - mse: 2.3185\n",
      "Epoch 10/10\n",
      "227268/227268 [==============================] - 92s 407us/step - loss: 1.7962 - mae: 1.0169 - mse: 1.79621s - loss: 1.797\n"
     ]
    }
   ],
   "source": [
    "#Trains the model for a fixed number of epochs (iterations on a dataset).\n",
    "history = model.fit([train.U_ID, train.P_ID], train.RATING, epochs=10, verbose=1)\n",
    "model.save('regression_model.h5')"
   ]
  },
  {
   "cell_type": "code",
   "execution_count": 7,
   "metadata": {},
   "outputs": [
    {
     "ename": "NameError",
     "evalue": "name 'history' is not defined",
     "output_type": "error",
     "traceback": [
      "\u001b[1;31m---------------------------------------------------------------------------\u001b[0m",
      "\u001b[1;31mNameError\u001b[0m                                 Traceback (most recent call last)",
      "\u001b[1;32m<ipython-input-7-999c6c64d62f>\u001b[0m in \u001b[0;36m<module>\u001b[1;34m\u001b[0m\n\u001b[0;32m      1\u001b[0m \u001b[1;32mimport\u001b[0m \u001b[0mmatplotlib\u001b[0m\u001b[1;33m.\u001b[0m\u001b[0mpyplot\u001b[0m \u001b[1;32mas\u001b[0m \u001b[0mplt\u001b[0m\u001b[1;33m\u001b[0m\u001b[1;33m\u001b[0m\u001b[0m\n\u001b[1;32m----> 2\u001b[1;33m \u001b[0mpd\u001b[0m\u001b[1;33m.\u001b[0m\u001b[0mSeries\u001b[0m\u001b[1;33m(\u001b[0m\u001b[0mhistory\u001b[0m\u001b[1;33m.\u001b[0m\u001b[0mhistory\u001b[0m\u001b[1;33m[\u001b[0m\u001b[1;34m'loss'\u001b[0m\u001b[1;33m]\u001b[0m\u001b[1;33m)\u001b[0m\u001b[1;33m.\u001b[0m\u001b[0mplot\u001b[0m\u001b[1;33m(\u001b[0m\u001b[0mlogy\u001b[0m\u001b[1;33m=\u001b[0m\u001b[1;32mTrue\u001b[0m\u001b[1;33m)\u001b[0m\u001b[1;33m\u001b[0m\u001b[1;33m\u001b[0m\u001b[0m\n\u001b[0m\u001b[0;32m      3\u001b[0m \u001b[0mplt\u001b[0m\u001b[1;33m.\u001b[0m\u001b[0mxlabel\u001b[0m\u001b[1;33m(\u001b[0m\u001b[1;34m\"Epoch\"\u001b[0m\u001b[1;33m)\u001b[0m\u001b[1;33m\u001b[0m\u001b[1;33m\u001b[0m\u001b[0m\n\u001b[0;32m      4\u001b[0m \u001b[0mplt\u001b[0m\u001b[1;33m.\u001b[0m\u001b[0mylabel\u001b[0m\u001b[1;33m(\u001b[0m\u001b[1;34m\"Training Error\"\u001b[0m\u001b[1;33m)\u001b[0m\u001b[1;33m\u001b[0m\u001b[1;33m\u001b[0m\u001b[0m\n",
      "\u001b[1;31mNameError\u001b[0m: name 'history' is not defined"
     ]
    }
   ],
   "source": [
    "import matplotlib.pyplot as plt\n",
    "pd.Series(history.history['loss']).plot(logy=True)\n",
    "plt.xlabel(\"Epoch\")\n",
    "plt.ylabel(\"Training Error\")"
   ]
  },
  {
   "cell_type": "code",
   "execution_count": 13,
   "metadata": {},
   "outputs": [
    {
     "name": "stdout",
     "output_type": "stream",
     "text": [
      "Model: \"model_1\"\n",
      "__________________________________________________________________________________________________\n",
      "Layer (type)                    Output Shape         Param #     Connected to                     \n",
      "==================================================================================================\n",
      "Product-Input (InputLayer)      (None, 1)            0                                            \n",
      "__________________________________________________________________________________________________\n",
      "User-Input (InputLayer)         (None, 1)            0                                            \n",
      "__________________________________________________________________________________________________\n",
      "Product-Embedding (Embedding)   (None, 1, 5)         525575      Product-Input[0][0]              \n",
      "__________________________________________________________________________________________________\n",
      "User-Embedding (Embedding)      (None, 1, 5)         36880       User-Input[0][0]                 \n",
      "__________________________________________________________________________________________________\n",
      "Flatten-Products (Flatten)      (None, 5)            0           Product-Embedding[0][0]          \n",
      "__________________________________________________________________________________________________\n",
      "Flatten-Users (Flatten)         (None, 5)            0           User-Embedding[0][0]             \n",
      "__________________________________________________________________________________________________\n",
      "Dot-Product (Dot)               (None, 1)            0           Flatten-Products[0][0]           \n",
      "                                                                 Flatten-Users[0][0]              \n",
      "==================================================================================================\n",
      "Total params: 562,455\n",
      "Trainable params: 562,455\n",
      "Non-trainable params: 0\n",
      "__________________________________________________________________________________________________\n"
     ]
    }
   ],
   "source": [
    "model.summary()"
   ]
  },
  {
   "cell_type": "code",
   "execution_count": 16,
   "metadata": {},
   "outputs": [],
   "source": [
    "#import os\n",
    "#os.environ[\"PATH\"] += os.pathsep + 'C:/Program Files (x86)/Graphviz2.38/bin/'\n",
    "from keras.utils import plot_model\n",
    "#tf.keras.utils.plot_model(model, to_file='model.png')\n",
    "tf.keras.utils.plot_model(model, to_file='model.png', show_shapes=True, show_layer_names=True)  "
   ]
  },
  {
   "cell_type": "code",
   "execution_count": 94,
   "metadata": {},
   "outputs": [
    {
     "name": "stdout",
     "output_type": "stream",
     "text": [
      "56818/56818 [==============================] - 19s 341us/step\n"
     ]
    }
   ],
   "source": [
    "#Returns the loss value & metrics values for the model in test mode.\n",
    "results = model.evaluate([test.U_ID, test.P_ID], test.RATING, batch_size=1)"
   ]
  },
  {
   "cell_type": "code",
   "execution_count": 95,
   "metadata": {},
   "outputs": [
    {
     "data": {
      "text/plain": [
       "[6.470648041065961, 1.9238553047180176, 6.470556735992432]"
      ]
     },
     "execution_count": 95,
     "metadata": {},
     "output_type": "execute_result"
    }
   ],
   "source": [
    "#loss='mean_squared_error', metrics=['mae', 'mse']\n",
    "results"
   ]
  },
  {
   "cell_type": "code",
   "execution_count": 74,
   "metadata": {},
   "outputs": [
    {
     "data": {
      "text/html": [
       "<div>\n",
       "<style scoped>\n",
       "    .dataframe tbody tr th:only-of-type {\n",
       "        vertical-align: middle;\n",
       "    }\n",
       "\n",
       "    .dataframe tbody tr th {\n",
       "        vertical-align: top;\n",
       "    }\n",
       "\n",
       "    .dataframe thead th {\n",
       "        text-align: right;\n",
       "    }\n",
       "</style>\n",
       "<table border=\"1\" class=\"dataframe\">\n",
       "  <thead>\n",
       "    <tr style=\"text-align: right;\">\n",
       "      <th></th>\n",
       "      <th>0</th>\n",
       "      <th>1</th>\n",
       "      <th>2</th>\n",
       "      <th>3</th>\n",
       "      <th>4</th>\n",
       "    </tr>\n",
       "  </thead>\n",
       "  <tbody>\n",
       "    <tr>\n",
       "      <th>count</th>\n",
       "      <td>105115.000000</td>\n",
       "      <td>105115.000000</td>\n",
       "      <td>105115.000000</td>\n",
       "      <td>105115.000000</td>\n",
       "      <td>105115.000000</td>\n",
       "    </tr>\n",
       "    <tr>\n",
       "      <th>mean</th>\n",
       "      <td>-0.284584</td>\n",
       "      <td>-0.256382</td>\n",
       "      <td>0.290770</td>\n",
       "      <td>-0.105683</td>\n",
       "      <td>-0.282524</td>\n",
       "    </tr>\n",
       "    <tr>\n",
       "      <th>std</th>\n",
       "      <td>0.203124</td>\n",
       "      <td>0.203867</td>\n",
       "      <td>0.198821</td>\n",
       "      <td>0.274087</td>\n",
       "      <td>0.196882</td>\n",
       "    </tr>\n",
       "    <tr>\n",
       "      <th>min</th>\n",
       "      <td>-1.239104</td>\n",
       "      <td>-1.076617</td>\n",
       "      <td>-0.858611</td>\n",
       "      <td>-1.009389</td>\n",
       "      <td>-1.317708</td>\n",
       "    </tr>\n",
       "    <tr>\n",
       "      <th>25%</th>\n",
       "      <td>-0.360422</td>\n",
       "      <td>-0.350523</td>\n",
       "      <td>0.217114</td>\n",
       "      <td>-0.311093</td>\n",
       "      <td>-0.359921</td>\n",
       "    </tr>\n",
       "    <tr>\n",
       "      <th>50%</th>\n",
       "      <td>-0.292948</td>\n",
       "      <td>-0.284352</td>\n",
       "      <td>0.293701</td>\n",
       "      <td>-0.183948</td>\n",
       "      <td>-0.291685</td>\n",
       "    </tr>\n",
       "    <tr>\n",
       "      <th>75%</th>\n",
       "      <td>-0.213339</td>\n",
       "      <td>-0.177053</td>\n",
       "      <td>0.362213</td>\n",
       "      <td>0.111939</td>\n",
       "      <td>-0.213335</td>\n",
       "    </tr>\n",
       "    <tr>\n",
       "      <th>max</th>\n",
       "      <td>0.629761</td>\n",
       "      <td>0.801228</td>\n",
       "      <td>1.598547</td>\n",
       "      <td>1.035295</td>\n",
       "      <td>0.647533</td>\n",
       "    </tr>\n",
       "  </tbody>\n",
       "</table>\n",
       "</div>"
      ],
      "text/plain": [
       "                   0              1              2              3  \\\n",
       "count  105115.000000  105115.000000  105115.000000  105115.000000   \n",
       "mean       -0.284584      -0.256382       0.290770      -0.105683   \n",
       "std         0.203124       0.203867       0.198821       0.274087   \n",
       "min        -1.239104      -1.076617      -0.858611      -1.009389   \n",
       "25%        -0.360422      -0.350523       0.217114      -0.311093   \n",
       "50%        -0.292948      -0.284352       0.293701      -0.183948   \n",
       "75%        -0.213339      -0.177053       0.362213       0.111939   \n",
       "max         0.629761       0.801228       1.598547       1.035295   \n",
       "\n",
       "                   4  \n",
       "count  105115.000000  \n",
       "mean       -0.282524  \n",
       "std         0.196882  \n",
       "min        -1.317708  \n",
       "25%        -0.359921  \n",
       "50%        -0.291685  \n",
       "75%        -0.213335  \n",
       "max         0.647533  "
      ]
     },
     "execution_count": 74,
     "metadata": {},
     "output_type": "execute_result"
    }
   ],
   "source": [
    "#Retrieves a layer based on either its name (unique) or index.\n",
    "#get_weights() Returns the current weights of the layer.\n",
    "product_embedding_learnt = model.get_layer(name='Product-Embedding').get_weights()[0]\n",
    "pd.DataFrame(product_embedding_learnt).describe()"
   ]
  },
  {
   "cell_type": "code",
   "execution_count": 97,
   "metadata": {},
   "outputs": [],
   "source": [
    "user_embedding_learnt = model.get_layer(name='User-Embedding').get_weights()[0]"
   ]
  },
  {
   "cell_type": "code",
   "execution_count": 98,
   "metadata": {},
   "outputs": [],
   "source": [
    "def recommend(user_id, number_of_products=5):\n",
    "  products = user_embedding_learnt[user_id]@product_embedding_learnt.T\n",
    "  mids = np.argpartition(products, -number_of_products)[-number_of_products:]\n",
    "  return mids"
   ]
  },
  {
   "cell_type": "code",
   "execution_count": 99,
   "metadata": {},
   "outputs": [
    {
     "data": {
      "text/plain": [
       "array([17173, 39925, 86146, 87604, 74652], dtype=int64)"
      ]
     },
     "execution_count": 99,
     "metadata": {},
     "output_type": "execute_result"
    }
   ],
   "source": [
    "recommend(user_id=1)"
   ]
  },
  {
   "cell_type": "code",
   "execution_count": 80,
   "metadata": {},
   "outputs": [
    {
     "data": {
      "text/plain": [
       "array([91543, 48431, 50477, 95234, 71816], dtype=int64)"
      ]
     },
     "execution_count": 80,
     "metadata": {},
     "output_type": "execute_result"
    }
   ],
   "source": [
    "recommend(user_id=600)"
   ]
  },
  {
   "cell_type": "markdown",
   "metadata": {},
   "source": [
    "# Creating dataset for making recommendations for the first user\n",
    "product_data = np.array(list(set(dataset.P_ID)))\n",
    "user = np.array([1 for i in range(len(product_data))])\n",
    "predictions = model.predict([user, product_data])\n",
    "predictions = np.array([a[0] for a in predictions])\n",
    "recommended_product_ids = (-predictions).argsort()[:5]\n",
    "print(recommended_product_ids)\n",
    "print(predictions[recommended_product_ids])"
   ]
  },
  {
   "cell_type": "markdown",
   "metadata": {},
   "source": [
    "# Creating dataset for making recommendations for the 600th user\n",
    "product_data = np.array(list(set(dataset.P_ID)))\n",
    "user = np.array([600 for i in range(len(product_data))])\n",
    "predictions = model.predict([user, product_data])\n",
    "predictions = np.array([a[0] for a in predictions])\n",
    "recommended_product_ids = (-predictions).argsort()[:5]\n",
    "print(recommended_product_ids)"
   ]
  },
  {
   "cell_type": "markdown",
   "metadata": {},
   "source": [
    "user_ids = df['U_ID'].values\n",
    "\n",
    "unique_ids = np.unique(user_ids)"
   ]
  },
  {
   "cell_type": "markdown",
   "metadata": {},
   "source": [
    "id_dict = {id: counter for counter, id in enumerate(unique_ids)}"
   ]
  },
  {
   "cell_type": "markdown",
   "metadata": {},
   "source": [
    "enumerate(unique_ids)"
   ]
  },
  {
   "cell_type": "markdown",
   "metadata": {},
   "source": [
    "df['U_ID'] = df['U_ID'].apply(lambda x: id_dict[x])"
   ]
  },
  {
   "cell_type": "markdown",
   "metadata": {},
   "source": [
    "num_items = np.unique(df['P_ID'].values).size\n",
    "num_users = unique_ids.size"
   ]
  },
  {
   "cell_type": "markdown",
   "metadata": {},
   "source": [
    "epochs = 500\n",
    "adam_learning_rate = .001\n",
    "adam_beta_1 = 0.9\n",
    "adam_beta_2 = 0.999\n",
    "adam_epsilon = 0.1"
   ]
  },
  {
   "cell_type": "markdown",
   "metadata": {},
   "source": [
    "params = \\\n",
    "    {\"train_epochs\": epochs,\n",
    "     \"batches_per_step\": 1,\n",
    "     \"use_seed\": False,\n",
    "     \"batch_size\": 10000,\n",
    "     \"eval_batch_size\": 1,\n",
    "     \"learning_rate\": adam_learning_rate,\n",
    "     \"mf_dim\": 10,\n",
    "     \"model_layers\": [int(layer) for layer in [\"64\", \"32\", \"16\", \"8\"]],\n",
    "     \"mf_regularization\": 0.0,\n",
    "     \"mlp_reg_layers\": [float(reg) for reg in [\"0.\", \"0.\", \"0.\", \"0.\"]],\n",
    "     \"num_neg\": 4,\n",
    "     \"num_gpus\": 0,\n",
    "     \"use_tpu\": False,\n",
    "     \"tpu\": None,\n",
    "     \"tpu_zone\": None,\n",
    "     \"tpu_gcp_project\": None,\n",
    "     \"beta1\": adam_beta_1,\n",
    "     \"beta2\": adam_beta_2,\n",
    "     \"epsilon\": adam_epsilon,\n",
    "     \"match_mlperf\": False,\n",
    "     \"use_xla_for_gpu\": False,\n",
    "     \"clone_model_in_keras_dist_strat\":False,\n",
    "     \"epochs_between_evals\": 1,\n",
    "     \"turn_off_distribution_strategy\": True,\n",
    "     \"num_users\": num_users,\n",
    "     \"num_items\": num_items,\n",
    "     \"loss\": 'mse',\n",
    "     \"train_size\": 0.95\n",
    "}\n"
   ]
  }
 ],
 "metadata": {
  "kernelspec": {
   "display_name": "Python 3",
   "language": "python",
   "name": "python3"
  },
  "language_info": {
   "codemirror_mode": {
    "name": "ipython",
    "version": 3
   },
   "file_extension": ".py",
   "mimetype": "text/x-python",
   "name": "python",
   "nbconvert_exporter": "python",
   "pygments_lexer": "ipython3",
   "version": "3.7.1"
  }
 },
 "nbformat": 4,
 "nbformat_minor": 2
}
