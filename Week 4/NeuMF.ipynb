{
  "nbformat": 4,
  "nbformat_minor": 0,
  "metadata": {
    "colab": {
      "name": "NeuMF.ipynb",
      "provenance": [],
      "collapsed_sections": [],
      "toc_visible": true
    },
    "kernelspec": {
      "name": "python3",
      "display_name": "Python 3"
    }
  },
  "cells": [
    {
      "cell_type": "markdown",
      "metadata": {
        "id": "bSfByC9SIVsT"
      },
      "source": [
        "# **Neural Matrix Factorization or NeuMF**\n",
        "\n",
        "Combining the General Matrix Factorization(GMF) and the Multi Layer Perceptron(MLP) to form the Neural Matrix Factorization(NeuMF) and integrate it into a single model to minimize loss further and give the best and the most accurate results."
      ]
    },
    {
      "cell_type": "markdown",
      "metadata": {
        "id": "WdBVmKy_IXXK"
      },
      "source": [
        "Importing all the necessary packages and libraries for the model"
      ]
    },
    {
      "cell_type": "code",
      "metadata": {
        "id": "p9afIEJyyF6U"
      },
      "source": [
        "import numpy as np\n",
        "import tensorflow as tf\n",
        "from tensorflow import keras\n",
        "from tensorflow.keras import Model\n",
        "from tensorflow.keras.layers import Input, Dense, Concatenate, Embedding, Dropout, BatchNormalization,Flatten,Dot\n",
        "from tensorflow.keras.optimizers import Adam,Nadam,Ftrl,SGD,Adadelta,Adamax,Adagrad,RMSprop\n",
        "from tensorflow.keras.utils import Sequence\n",
        "from tensorflow.keras.regularizers import l2, l1, l1_l2\n",
        "from tensorflow.keras.initializers import RandomUniform, lecun_uniform,he_uniform\n",
        "import math\n",
        "import pandas as pd"
      ],
      "execution_count": null,
      "outputs": []
    },
    {
      "cell_type": "markdown",
      "metadata": {
        "id": "ilfjOJCWIdLF"
      },
      "source": [
        "Dataset is being read into the code and the columns under consideration i.e., U_ID, P_ID and RATING are used to create the dataframe."
      ]
    },
    {
      "cell_type": "code",
      "metadata": {
        "id": "d2beqA-8y-Uu"
      },
      "source": [
        "col_list = [\"U_ID\", \"P_ID\", \"RATING\"]\n",
        "dataset = pd.read_csv('rating.csv',usecols=col_list, sep='\\t',dtype='int')"
      ],
      "execution_count": null,
      "outputs": []
    },
    {
      "cell_type": "markdown",
      "metadata": {
        "id": "2o8QJtmCIkjz"
      },
      "source": [
        "This block and the next block of code deals with extracting the unique User IDs from the dataset and mapping them with their index number and storing it in a dictionary"
      ]
    },
    {
      "cell_type": "code",
      "metadata": {
        "id": "lVYkXXSNzK_5"
      },
      "source": [
        "#to get the unique user ids from dataset\n",
        "user_ids = dataset['U_ID'].values\n",
        "unique_ids = np.unique(user_ids)\n",
        "id_dict = {id: counter for counter, id in enumerate(unique_ids)}\n",
        "#enumerate(unique_ids)\n",
        "dataset['U_ID'] = dataset['U_ID'].apply(lambda x: id_dict[x])"
      ],
      "execution_count": null,
      "outputs": []
    },
    {
      "cell_type": "code",
      "metadata": {
        "id": "Z4WHQ0ySzzvs"
      },
      "source": [
        "#to get the unique product ids from dataset\n",
        "product_ids = dataset['P_ID'].values\n",
        "unique_ids = np.unique(product_ids)\n",
        "#create a dictionary of users with key value from 0 to #users\n",
        "id_dict = {id: counter for counter, id in enumerate(unique_ids)}\n",
        "dataset['P_ID'] = dataset['P_ID'].apply(lambda x: id_dict[x])"
      ],
      "execution_count": null,
      "outputs": []
    },
    {
      "cell_type": "markdown",
      "metadata": {
        "id": "2RJZmy6vIncu"
      },
      "source": [
        "Makes the train and test data for our model. Also the latent factors for the matrix factorization is taken to be 20."
      ]
    },
    {
      "cell_type": "code",
      "metadata": {
        "id": "rhcSzya8Tq6b"
      },
      "source": [
        "from sklearn.model_selection import train_test_split\n",
        "train, test = train_test_split(dataset, test_size=0.2, random_state=42)\n",
        "n_users = len(dataset.U_ID.unique())\n",
        "n_movies = len(dataset.P_ID.unique())\n",
        "n_latent_factors=20"
      ],
      "execution_count": null,
      "outputs": []
    },
    {
      "cell_type": "markdown",
      "metadata": {
        "id": "CS3E7OqsVPqA"
      },
      "source": [
        "MF input for users"
      ]
    },
    {
      "cell_type": "code",
      "metadata": {
        "id": "U0Bb5-mRU1zy"
      },
      "source": [
        "user_input = Input(shape=[1], name=\"User-Input\")\n",
        "user_embedding_mf = Embedding(n_users+1, 20, name=\"User-Embedding_mf\")(user_input)\n",
        "user_vec_mf = Flatten(name=\"Flatten-Users_mf\")(user_embedding_mf)"
      ],
      "execution_count": null,
      "outputs": []
    },
    {
      "cell_type": "markdown",
      "metadata": {
        "id": "yJhnLhTFVa9g"
      },
      "source": [
        "MLP input for users"
      ]
    },
    {
      "cell_type": "code",
      "metadata": {
        "id": "vRc981HiVeJ5"
      },
      "source": [
        "user_embedding_mlp = keras.layers.Embedding(n_users, n_latent_factors, \n",
        "                                          embeddings_initializer=\"uniform\", \n",
        "                                          embeddings_regularizer=l2(1e-6), \n",
        "                                          embeddings_constraint='NonNeg',\n",
        "                                          name='User-Embedding_mlp')(user_input)\n",
        "user_vec_mlp = keras.layers.Flatten(name='FlattenUsers_mlp')(user_embedding_mlp)"
      ],
      "execution_count": null,
      "outputs": []
    },
    {
      "cell_type": "markdown",
      "metadata": {
        "id": "iw8TmiKgWEgM"
      },
      "source": [
        "MF input for movies"
      ]
    },
    {
      "cell_type": "code",
      "metadata": {
        "id": "jZQ-oYyQWIjg"
      },
      "source": [
        "movie_input = Input(shape=[1], name=\"Movie-Input\")\n",
        "movie_embedding_mf = Embedding(n_movies+1, 20, name=\"Movie-Embedding_mf\")(movie_input)\n",
        "movie_vec_mf = Flatten(name=\"FlattenMovies_mf\")(movie_embedding_mf)"
      ],
      "execution_count": null,
      "outputs": []
    },
    {
      "cell_type": "markdown",
      "metadata": {
        "id": "SOaIpCh3WWUp"
      },
      "source": [
        "MLP input for movies"
      ]
    },
    {
      "cell_type": "code",
      "metadata": {
        "id": "_rO1wZcfWZT5"
      },
      "source": [
        "\n",
        "movie_embedding_mlp = keras.layers.Embedding(n_movies, n_latent_factors, \n",
        "                                          embeddings_initializer=\"uniform\", \n",
        "                                          embeddings_regularizer=l2(1e-6), \n",
        "                                          embeddings_constraint='NonNeg',\n",
        "                                          name='Movie-Embedding_mlp')(movie_input)\n",
        "movie_vec_mlp = keras.layers.Flatten(name='FlattenMovies_mlp')(movie_embedding_mlp)"
      ],
      "execution_count": null,
      "outputs": []
    },
    {
      "cell_type": "markdown",
      "metadata": {
        "id": "X8JILHXjW5me"
      },
      "source": [
        "MF Product\n"
      ]
    },
    {
      "cell_type": "code",
      "metadata": {
        "id": "zCL9dliUW9Zr"
      },
      "source": [
        "mf = Dot(name=\"Dot-Product\", axes=1)([movie_vec_mf, user_vec_mf])"
      ],
      "execution_count": null,
      "outputs": []
    },
    {
      "cell_type": "markdown",
      "metadata": {
        "id": "m94VcnJhYI0N"
      },
      "source": [
        "Concatenating the MLP input for both movies and users and perform the MLP through Deep Neural Networks."
      ]
    },
    {
      "cell_type": "code",
      "metadata": {
        "id": "3r8X7tstYH1w"
      },
      "source": [
        "concat = keras.layers.concatenate([movie_vec_mlp, user_vec_mlp])\n",
        "#mlp with 6 layers \n",
        "mlp = concat\n",
        "for i in range(6,-1,-1):\n",
        "    if i == 0:\n",
        "      mlp = Dense(8**i, activation='softmax', kernel_initializer='lecun_uniform',\n",
        "                  name=\"output\")(mlp)\n",
        "    else:\n",
        "      mlp = Dense(8*2**i, activation='relu', kernel_initializer='he_uniform')(mlp)\n",
        "      if i > 5:\n",
        "        mlp = BatchNormalization()(mlp)\n",
        "        mlp = Dropout(0.05)(mlp)"
      ],
      "execution_count": null,
      "outputs": []
    },
    {
      "cell_type": "markdown",
      "metadata": {
        "id": "IzvR-So0YdUP"
      },
      "source": [
        "Concatenation of MLP and Matrix Factorisation"
      ]
    },
    {
      "cell_type": "code",
      "metadata": {
        "id": "AHS-_AfgYmbA"
      },
      "source": [
        "combine_mlp_mf = keras.layers.concatenate([mf, mlp])\n",
        "result_combine = keras.layers.Dense(100,name='Combine-MF-MLP')(combine_mlp_mf)\n",
        "deep_combine = keras.layers.Dense(100,name='FullyConnected-4')(result_combine)\n",
        "result = keras.layers.Dense(1,name='Prediction')(deep_combine)"
      ],
      "execution_count": null,
      "outputs": []
    },
    {
      "cell_type": "markdown",
      "metadata": {
        "id": "0n0Cn4vKY54f"
      },
      "source": [
        "Tuning and training the model. Taking Epochs = 10 and Optimiser = Nadam , and the loss factor as 'Mean Squared Error' and other metrics like mae to calculate the loss."
      ]
    },
    {
      "cell_type": "code",
      "metadata": {
        "id": "ZetJMvjbY-VI",
        "outputId": "1499c022-9bed-4dce-bbe2-b66f5684076b",
        "colab": {
          "base_uri": "https://localhost:8080/",
          "height": 406
        }
      },
      "source": [
        "model = keras.Model([user_input, movie_input], result)\n",
        "model.compile('nadam', loss='mean_squared_error', metrics=['mae', 'mse'])\n",
        "history = model.fit([train.U_ID, train.P_ID], train.RATING, epochs=10, verbose=1, validation_split=0.1)"
      ],
      "execution_count": null,
      "outputs": [
        {
          "output_type": "stream",
          "text": [
            "Epoch 1/10\n"
          ],
          "name": "stdout"
        },
        {
          "output_type": "stream",
          "text": [
            "/usr/local/lib/python3.6/dist-packages/tensorflow/python/framework/indexed_slices.py:432: UserWarning: Converting sparse IndexedSlices to a dense Tensor of unknown shape. This may consume a large amount of memory.\n",
            "  \"Converting sparse IndexedSlices to a dense Tensor of unknown shape. \"\n"
          ],
          "name": "stderr"
        },
        {
          "output_type": "stream",
          "text": [
            "6392/6392 [==============================] - 507s 79ms/step - loss: 1.1606 - mae: 0.8285 - mse: 1.1606 - val_loss: 1.1211 - val_mae: 0.8151 - val_mse: 1.1211\n",
            "Epoch 2/10\n",
            "6392/6392 [==============================] - 496s 78ms/step - loss: 0.9288 - mae: 0.7068 - mse: 0.9288 - val_loss: 1.2057 - val_mae: 0.8508 - val_mse: 1.2057\n",
            "Epoch 3/10\n",
            "6392/6392 [==============================] - 497s 78ms/step - loss: 0.5550 - mae: 0.5155 - mse: 0.5550 - val_loss: 1.3299 - val_mae: 0.9032 - val_mse: 1.3299\n",
            "Epoch 4/10\n",
            "6392/6392 [==============================] - 491s 77ms/step - loss: 0.3362 - mae: 0.3849 - mse: 0.3362 - val_loss: 1.4087 - val_mae: 0.9414 - val_mse: 1.4087\n",
            "Epoch 5/10\n",
            "6392/6392 [==============================] - 494s 77ms/step - loss: 0.2170 - mae: 0.3035 - mse: 0.2170 - val_loss: 1.4548 - val_mae: 0.9418 - val_mse: 1.4548\n",
            "Epoch 6/10\n",
            "6392/6392 [==============================] - 494s 77ms/step - loss: 0.1559 - mae: 0.2611 - mse: 0.1559 - val_loss: 1.4971 - val_mae: 0.9696 - val_mse: 1.4971\n",
            "Epoch 7/10\n",
            "6392/6392 [==============================] - 493s 77ms/step - loss: 0.1227 - mae: 0.2368 - mse: 0.1227 - val_loss: 1.5084 - val_mae: 0.9628 - val_mse: 1.5084\n",
            "Epoch 8/10\n",
            "6392/6392 [==============================] - 490s 77ms/step - loss: 0.1026 - mae: 0.2212 - mse: 0.1026 - val_loss: 1.5085 - val_mae: 0.9536 - val_mse: 1.5085\n",
            "Epoch 9/10\n",
            "6392/6392 [==============================] - 490s 77ms/step - loss: 0.0884 - mae: 0.2085 - mse: 0.0884 - val_loss: 1.5238 - val_mae: 0.9652 - val_mse: 1.5238\n",
            "Epoch 10/10\n",
            "6392/6392 [==============================] - 490s 77ms/step - loss: 0.0790 - mae: 0.1995 - mse: 0.0790 - val_loss: 1.5137 - val_mae: 0.9677 - val_mse: 1.5137\n"
          ],
          "name": "stdout"
        }
      ]
    },
    {
      "cell_type": "markdown",
      "metadata": {
        "id": "EcVnUUsoI41G"
      },
      "source": [
        "A line graph to display the decreasing rate of the loss with the increase in epochs."
      ]
    },
    {
      "cell_type": "code",
      "metadata": {
        "id": "f28m_VsnumUG",
        "outputId": "a25eb2e2-9c6d-4dfb-f1fe-92b4f7156287",
        "colab": {
          "base_uri": "https://localhost:8080/",
          "height": 279
        }
      },
      "source": [
        "import matplotlib.pyplot as plt\n",
        "pd.Series(history.history['loss']).plot(logy=True)\n",
        "plt.xlabel(\"Epoch\")\n",
        "plt.ylabel(\"Training Error\")\n",
        "plt.savefig('books_read.png')"
      ],
      "execution_count": null,
      "outputs": [
        {
          "output_type": "display_data",
          "data": {
            "image/png": "[encoded data removed]",
            "text/plain": [
              "<Figure size 432x288 with 1 Axes>"
            ]
          },
          "metadata": {
            "tags": [],
            "needs_background": "light"
          }
        }
      ]
    },
    {
      "cell_type": "markdown",
      "metadata": {
        "id": "ssULLTlwI3jI"
      },
      "source": [
        "Gives the summary of the model"
      ]
    },
    {
      "cell_type": "code",
      "metadata": {
        "id": "ovNXvgi7Z47j",
        "outputId": "59240c70-a14a-4eae-a23c-21d349bce2c8",
        "colab": {
          "base_uri": "https://localhost:8080/",
          "height": 1000
        }
      },
      "source": [
        "model.summary()"
      ],
      "execution_count": null,
      "outputs": [
        {
          "output_type": "stream",
          "text": [
            "Model: \"functional_1\"\n",
            "__________________________________________________________________________________________________\n",
            "Layer (type)                    Output Shape         Param #     Connected to                     \n",
            "==================================================================================================\n",
            "Movie-Input (InputLayer)        [(None, 1)]          0                                            \n",
            "__________________________________________________________________________________________________\n",
            "User-Input (InputLayer)         [(None, 1)]          0                                            \n",
            "__________________________________________________________________________________________________\n",
            "Movie-Embedding_mlp (Embedding) (None, 1, 20)        2102280     Movie-Input[0][0]                \n",
            "__________________________________________________________________________________________________\n",
            "User-Embedding_mlp (Embedding)  (None, 1, 20)        147500      User-Input[0][0]                 \n",
            "__________________________________________________________________________________________________\n",
            "FlattenMovies_mlp (Flatten)     (None, 20)           0           Movie-Embedding_mlp[0][0]        \n",
            "__________________________________________________________________________________________________\n",
            "FlattenUsers_mlp (Flatten)      (None, 20)           0           User-Embedding_mlp[0][0]         \n",
            "__________________________________________________________________________________________________\n",
            "concatenate (Concatenate)       (None, 40)           0           FlattenMovies_mlp[0][0]          \n",
            "                                                                 FlattenUsers_mlp[0][0]           \n",
            "__________________________________________________________________________________________________\n",
            "dense (Dense)                   (None, 512)          20992       concatenate[0][0]                \n",
            "__________________________________________________________________________________________________\n",
            "batch_normalization (BatchNorma (None, 512)          2048        dense[0][0]                      \n",
            "__________________________________________________________________________________________________\n",
            "dropout (Dropout)               (None, 512)          0           batch_normalization[0][0]        \n",
            "__________________________________________________________________________________________________\n",
            "dense_1 (Dense)                 (None, 256)          131328      dropout[0][0]                    \n",
            "__________________________________________________________________________________________________\n",
            "dense_2 (Dense)                 (None, 128)          32896       dense_1[0][0]                    \n",
            "__________________________________________________________________________________________________\n",
            "dense_3 (Dense)                 (None, 64)           8256        dense_2[0][0]                    \n",
            "__________________________________________________________________________________________________\n",
            "Movie-Embedding_mf (Embedding)  (None, 1, 20)        2102300     Movie-Input[0][0]                \n",
            "__________________________________________________________________________________________________\n",
            "User-Embedding_mf (Embedding)   (None, 1, 20)        147520      User-Input[0][0]                 \n",
            "__________________________________________________________________________________________________\n",
            "dense_4 (Dense)                 (None, 32)           2080        dense_3[0][0]                    \n",
            "__________________________________________________________________________________________________\n",
            "FlattenMovies_mf (Flatten)      (None, 20)           0           Movie-Embedding_mf[0][0]         \n",
            "__________________________________________________________________________________________________\n",
            "Flatten-Users_mf (Flatten)      (None, 20)           0           User-Embedding_mf[0][0]          \n",
            "__________________________________________________________________________________________________\n",
            "dense_5 (Dense)                 (None, 16)           528         dense_4[0][0]                    \n",
            "__________________________________________________________________________________________________\n",
            "Dot-Product (Dot)               (None, 1)            0           FlattenMovies_mf[0][0]           \n",
            "                                                                 Flatten-Users_mf[0][0]           \n",
            "__________________________________________________________________________________________________\n",
            "output (Dense)                  (None, 1)            17          dense_5[0][0]                    \n",
            "__________________________________________________________________________________________________\n",
            "concatenate_1 (Concatenate)     (None, 2)            0           Dot-Product[0][0]                \n",
            "                                                                 output[0][0]                     \n",
            "__________________________________________________________________________________________________\n",
            "Combine-MF-MLP (Dense)          (None, 100)          300         concatenate_1[0][0]              \n",
            "__________________________________________________________________________________________________\n",
            "FullyConnected-4 (Dense)        (None, 100)          10100       Combine-MF-MLP[0][0]             \n",
            "__________________________________________________________________________________________________\n",
            "Prediction (Dense)              (None, 1)            101         FullyConnected-4[0][0]           \n",
            "==================================================================================================\n",
            "Total params: 4,708,246\n",
            "Trainable params: 4,707,222\n",
            "Non-trainable params: 1,024\n",
            "__________________________________________________________________________________________________\n"
          ],
          "name": "stdout"
        }
      ]
    },
    {
      "cell_type": "markdown",
      "metadata": {
        "id": "G8t9MiZpJIHO"
      },
      "source": [
        "To visualise the entire model."
      ]
    },
    {
      "cell_type": "code",
      "metadata": {
        "id": "OqlneDX1Z-XN",
        "outputId": "b8521f3f-6160-4ae5-dff8-28df651035a3",
        "colab": {
          "base_uri": "https://localhost:8080/",
          "height": 1000
        }
      },
      "source": [
        "from keras.utils.vis_utils import plot_model\n",
        "tf.keras.utils.plot_model(\n",
        "    model, show_shapes=False, show_layer_names=True,\n",
        "    rankdir='TB', expand_nested=False, dpi=96\n",
        ")"
      ],
      "execution_count": null,
      "outputs": [
        {
          "output_type": "execute_result",
          "data": {
            "image/png": "[encoded data removed]",
            "text/plain": [
              "<IPython.core.display.Image object>"
            ]
          },
          "metadata": {
            "tags": []
          },
          "execution_count": 18
        }
      ]
    },
    {
      "cell_type": "markdown",
      "metadata": {
        "id": "UCss2R_6KaSA"
      },
      "source": [
        "Evaluates the test portion of the dataset and gives the loss in terms of mae and mse."
      ]
    },
    {
      "cell_type": "code",
      "metadata": {
        "id": "1CCGExLUhxCT",
        "outputId": "dae797c6-4c4d-48e0-ec67-513fd83479c4",
        "colab": {
          "base_uri": "https://localhost:8080/",
          "height": 34
        }
      },
      "source": [
        "finalresults = model.evaluate([test.U_ID,test.P_ID],test.RATING, batch_size=1)"
      ],
      "execution_count": null,
      "outputs": [
        {
          "output_type": "stream",
          "text": [
            "56818/56818 [==============================] - 368s 6ms/step - loss: 1.5200 - mae: 0.9699 - mse: 1.5200\n"
          ],
          "name": "stdout"
        }
      ]
    },
    {
      "cell_type": "markdown",
      "metadata": {
        "id": "kWA56Ppe2R4L"
      },
      "source": [
        "Retrieves a layer based on either its name (unique) or index."
      ]
    },
    {
      "cell_type": "code",
      "metadata": {
        "id": "T8a28qS3NxwG"
      },
      "source": [
        "#get_weights() Returns the current weights of the layer.\n",
        "product_embedding_learnt = model.get_layer(name='Movie-Embedding_mf').get_weights()[0]"
      ],
      "execution_count": null,
      "outputs": []
    },
    {
      "cell_type": "code",
      "metadata": {
        "id": "qzquXfXmaRhx"
      },
      "source": [
        "user_embedding_learnt = model.get_layer(name='User-Embedding_mf').get_weights()[0]"
      ],
      "execution_count": null,
      "outputs": []
    },
    {
      "cell_type": "markdown",
      "metadata": {
        "id": "C5fD48qp15zr"
      },
      "source": [
        "**Param** *user_id*: The unique U_ID\n",
        "\n",
        "**Param** *number_of_products*: (default = 5), The number of predictions to choose based on relevancy\n"
      ]
    },
    {
      "cell_type": "code",
      "metadata": {
        "id": "oaWWQ_z3Ne4x"
      },
      "source": [
        "def recommend(user_id, number_of_products=5):\n",
        "  products = user_embedding_learnt[user_id]@product_embedding_learnt.T\n",
        "  mids = np.argpartition(products, -number_of_products)[-number_of_products:]\n",
        "  return mids"
      ],
      "execution_count": null,
      "outputs": []
    },
    {
      "cell_type": "markdown",
      "metadata": {
        "id": "uTTZDkYZ1_yZ"
      },
      "source": [
        "Displaying recommendations"
      ]
    },
    {
      "cell_type": "code",
      "metadata": {
        "id": "8uMf07toNmJ8",
        "outputId": "394e6bfd-b3b9-43eb-840d-787b2eeabd2d",
        "colab": {
          "base_uri": "https://localhost:8080/",
          "height": 34
        }
      },
      "source": [
        "recommend(user_id=1)"
      ],
      "execution_count": null,
      "outputs": [
        {
          "output_type": "execute_result",
          "data": {
            "text/plain": [
              "array([38374, 19534, 24714, 28167, 93116])"
            ]
          },
          "metadata": {
            "tags": []
          },
          "execution_count": 23
        }
      ]
    },
    {
      "cell_type": "code",
      "metadata": {
        "id": "uvQrM_arNpkj"
      },
      "source": [
        ""
      ],
      "execution_count": null,
      "outputs": []
    }
  ]
}