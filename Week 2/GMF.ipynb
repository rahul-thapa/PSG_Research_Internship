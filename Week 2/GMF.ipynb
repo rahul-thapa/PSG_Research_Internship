{
  "nbformat": 4,
  "nbformat_minor": 0,
  "metadata": {
    "colab": {
      "name": "GMF.ipynb",
      "provenance": [],
      "collapsed_sections": []
    },
    "kernelspec": {
      "name": "python3",
      "display_name": "Python 3"
    }
  },
  "cells": [
    {
      "cell_type": "markdown",
      "metadata": {
        "id": "c3aswx-bbpHe"
      },
      "source": [
        "# **General Matrix factorization**\n",
        "\n",
        "In this piece of code, we make a model for our recommendation system with the help of the Collaborative Filtering method. Here, we have named the matrix factorization as General Matrix Factorization of GMF. "
      ]
    },
    {
      "cell_type": "markdown",
      "metadata": {
        "id": "0pNzRC5zNow_"
      },
      "source": [
        "Importing the necessary packages"
      ]
    },
    {
      "cell_type": "code",
      "metadata": {
        "id": "jwuNR_TJX12W"
      },
      "source": [
        "import numpy as np\n",
        "import tensorflow as tf\n",
        "import pandas as pd\n",
        "from sklearn.model_selection import train_test_split\n",
        "from keras.layers import Input, Embedding, Flatten, Dot, Dense\n",
        "from keras.models import Model\n",
        "import matplotlib.pyplot as plt\n",
        "from keras.utils import plot_model"
      ],
      "execution_count": null,
      "outputs": []
    },
    {
      "cell_type": "markdown",
      "metadata": {
        "id": "7os0_BwpNtBM"
      },
      "source": [
        "Reading the data and ignoring the *timestamp* and *category* columns and taking only the unique U_ID values from the dataset."
      ]
    },
    {
      "cell_type": "code",
      "metadata": {
        "id": "qb5u1bhxX7M0"
      },
      "source": [
        "col_list = [\"U_ID\", \"P_ID\", \"RATING\"]\n",
        "dataset = pd.read_csv(r'rating.csv',usecols=col_list, sep='\\t',dtype='int')"
      ],
      "execution_count": null,
      "outputs": []
    },
    {
      "cell_type": "code",
      "metadata": {
        "id": "oVUZIMqWY-tJ"
      },
      "source": [
        "#to get the unique user ids from dataset\n",
        "user_ids = dataset['U_ID'].values\n",
        "unique_ids = np.unique(user_ids)\n",
        "id_dict = {id: counter for counter, id in enumerate(unique_ids)}\n",
        "#enumerate(unique_ids)\n",
        "dataset['U_ID'] = dataset['U_ID'].apply(lambda x: id_dict[x])"
      ],
      "execution_count": null,
      "outputs": []
    },
    {
      "cell_type": "markdown",
      "metadata": {
        "id": "ox1kjq4vOcLy"
      },
      "source": [
        "Taking the unique product ids from dataset"
      ]
    },
    {
      "cell_type": "code",
      "metadata": {
        "id": "dL2lqx6_ZCBB"
      },
      "source": [
        "\n",
        "product_ids = dataset['P_ID'].values\n",
        "unique_ids = np.unique(product_ids)\n",
        "#create a dictionary of users with key value from 0 to #users\n",
        "id_dict = {id: counter for counter, id in enumerate(unique_ids)}\n",
        "dataset['P_ID'] = dataset['P_ID'].apply(lambda x: id_dict[x])"
      ],
      "execution_count": null,
      "outputs": []
    },
    {
      "cell_type": "markdown",
      "metadata": {
        "id": "hrBZp-TjOj7B"
      },
      "source": [
        "Splitting the data into trainset and testset in a 4:1 ratio"
      ]
    },
    {
      "cell_type": "code",
      "metadata": {
        "id": "uB46RjgkZE0I"
      },
      "source": [
        "\n",
        "train, test = train_test_split(dataset, test_size=0.2, random_state=42)\n",
        "n_users = len(dataset.U_ID.unique())\n",
        "n_products = len(dataset.P_ID.unique())"
      ],
      "execution_count": null,
      "outputs": []
    },
    {
      "cell_type": "markdown",
      "metadata": {
        "id": "9oOe4HS9OsmH"
      },
      "source": [
        "### Model selection and readying the data\n",
        "\n",
        "Here we define the layers, optimizers and metrics for the model to use."
      ]
    },
    {
      "cell_type": "code",
      "metadata": {
        "id": "TvUUpI6DZJ5Q"
      },
      "source": [
        "#Input() is used to instantiate a Keras tensor.\n",
        "user_input = Input(shape=[1], name=\"User-Input\")\n",
        "#Embedding(input_dim,output_dim), here latent_factor for user is consider to be 5 \n",
        "user_embedding = Embedding(n_users+1, 20, name=\"User-Embedding\")(user_input)\n",
        "#Flattening a tensor means to remove all of the dimensions except for one. This is exactly what the Flatten layer do.\n",
        "user_vec = Flatten(name=\"Flatten-Users\")(user_embedding)"
      ],
      "execution_count": null,
      "outputs": []
    },
    {
      "cell_type": "code",
      "metadata": {
        "id": "9365UkTTZMvv"
      },
      "source": [
        "product_input = Input(shape=[1], name=\"Product-Input\")\n",
        "product_embedding = Embedding(n_products+1, 20, name=\"Product-Embedding\")(product_input)\n",
        "product_vec = Flatten(name=\"Flatten-Products\")(product_embedding)"
      ],
      "execution_count": null,
      "outputs": []
    },
    {
      "cell_type": "code",
      "metadata": {
        "id": "He9cWwRHZQZN"
      },
      "source": [
        "#Layer that computes a dot product between samples in two tensors.\n",
        "prod = Dot(name=\"Dot-Product\", axes=1)([product_vec, user_vec])\n",
        "#Model groups layers into an object with training and inference features.Model(input,output)\n",
        "model = Model([user_input, product_input], prod)\n",
        "#Configures the model for training.compile(optimizer, loss, metrics)\n",
        "model.compile('adam', loss='mean_squared_error', metrics=['mae', 'mse'])"
      ],
      "execution_count": null,
      "outputs": []
    },
    {
      "cell_type": "markdown",
      "metadata": {
        "id": "opFYZ1DGPLm0"
      },
      "source": [
        "### Training the model\n",
        "The model is trained on the trainset for a fixed number of epochs (iterations on a dataset)."
      ]
    },
    {
      "cell_type": "code",
      "metadata": {
        "id": "cm50j_sCZU6K",
        "outputId": "2cbfb22b-a40f-4b25-9abd-54c3caa1e632",
        "colab": {
          "base_uri": "https://localhost:8080/",
          "height": 353
        }
      },
      "source": [
        "history = model.fit([train.U_ID, train.P_ID], train.RATING, epochs=10, verbose=1)\n",
        "model.save('regression_model.h5')"
      ],
      "execution_count": null,
      "outputs": [
        {
          "output_type": "stream",
          "text": [
            "Epoch 1/10\n",
            "7103/7103 [==============================] - 155s 22ms/step - loss: 18.0541 - mae: 4.1090 - mse: 18.0541\n",
            "Epoch 2/10\n",
            "7103/7103 [==============================] - 156s 22ms/step - loss: 13.1508 - mae: 3.3514 - mse: 13.1508\n",
            "Epoch 3/10\n",
            "7103/7103 [==============================] - 155s 22ms/step - loss: 7.8624 - mae: 2.4103 - mse: 7.8624\n",
            "Epoch 4/10\n",
            "7103/7103 [==============================] - 155s 22ms/step - loss: 4.6069 - mae: 1.7405 - mse: 4.6069\n",
            "Epoch 5/10\n",
            "7103/7103 [==============================] - 161s 23ms/step - loss: 2.6630 - mae: 1.2673 - mse: 2.6630\n",
            "Epoch 6/10\n",
            "7103/7103 [==============================] - 158s 22ms/step - loss: 1.5493 - mae: 0.9404 - mse: 1.5493\n",
            "Epoch 7/10\n",
            "7103/7103 [==============================] - 155s 22ms/step - loss: 0.9391 - mae: 0.7213 - mse: 0.9391\n",
            "Epoch 8/10\n",
            "7103/7103 [==============================] - 153s 21ms/step - loss: 0.6228 - mae: 0.5850 - mse: 0.6228\n",
            "Epoch 9/10\n",
            "7103/7103 [==============================] - 152s 21ms/step - loss: 0.4640 - mae: 0.5015 - mse: 0.4640\n",
            "Epoch 10/10\n",
            "7103/7103 [==============================] - 152s 21ms/step - loss: 0.3843 - mae: 0.4550 - mse: 0.3843\n"
          ],
          "name": "stdout"
        }
      ]
    },
    {
      "cell_type": "markdown",
      "metadata": {
        "id": "ZOtk5LZIPZQY"
      },
      "source": [
        "The train result is then plotted on a graph with X-axis as the *epoch number* and the Y-axis as the *training error*"
      ]
    },
    {
      "cell_type": "code",
      "metadata": {
        "id": "jNVusdOobTmb",
        "outputId": "fd59e967-92f9-4d1c-a94a-df1cdd0a36b7",
        "colab": {
          "base_uri": "https://localhost:8080/",
          "height": 296
        }
      },
      "source": [
        "\n",
        "pd.Series(history.history['loss']).plot(logy=True)\n",
        "plt.xlabel(\"Epoch\")\n",
        "plt.ylabel(\"Training Error\")"
      ],
      "execution_count": null,
      "outputs": [
        {
          "output_type": "execute_result",
          "data": {
            "text/plain": [
              "Text(0, 0.5, 'Training Error')"
            ]
          },
          "metadata": {
            "tags": []
          },
          "execution_count": 14
        },
        {
          "output_type": "display_data",
          "data": {
            "image/png": "[encoded data removed]",
            "text/plain": [
              "<Figure size 432x288 with 1 Axes>"
            ]
          },
          "metadata": {
            "tags": [],
            "needs_background": "light"
          }
        }
      ]
    },
    {
      "cell_type": "markdown",
      "metadata": {
        "id": "Qg5Vx46yP0sA"
      },
      "source": [
        "Visualizing the model results as a table"
      ]
    },
    {
      "cell_type": "code",
      "metadata": {
        "id": "NhY5KuS3baZJ",
        "outputId": "9a68100c-bdf9-4411-ce62-d5f097b732c9",
        "colab": {
          "base_uri": "https://localhost:8080/",
          "height": 403
        }
      },
      "source": [
        "model.summary()"
      ],
      "execution_count": null,
      "outputs": [
        {
          "output_type": "stream",
          "text": [
            "Model: \"functional_1\"\n",
            "__________________________________________________________________________________________________\n",
            "Layer (type)                    Output Shape         Param #     Connected to                     \n",
            "==================================================================================================\n",
            "Product-Input (InputLayer)      [(None, 1)]          0                                            \n",
            "__________________________________________________________________________________________________\n",
            "User-Input (InputLayer)         [(None, 1)]          0                                            \n",
            "__________________________________________________________________________________________________\n",
            "Product-Embedding (Embedding)   (None, 1, 5)         525575      Product-Input[0][0]              \n",
            "__________________________________________________________________________________________________\n",
            "User-Embedding (Embedding)      (None, 1, 5)         36880       User-Input[0][0]                 \n",
            "__________________________________________________________________________________________________\n",
            "Flatten-Products (Flatten)      (None, 5)            0           Product-Embedding[0][0]          \n",
            "__________________________________________________________________________________________________\n",
            "Flatten-Users (Flatten)         (None, 5)            0           User-Embedding[0][0]             \n",
            "__________________________________________________________________________________________________\n",
            "Dot-Product (Dot)               (None, 1)            0           Flatten-Products[0][0]           \n",
            "                                                                 Flatten-Users[0][0]              \n",
            "==================================================================================================\n",
            "Total params: 562,455\n",
            "Trainable params: 562,455\n",
            "Non-trainable params: 0\n",
            "__________________________________________________________________________________________________\n"
          ],
          "name": "stdout"
        }
      ]
    },
    {
      "cell_type": "markdown",
      "metadata": {
        "id": "0FcJyI8NP8Fu"
      },
      "source": [
        "Visualizing the model results to show the mappings"
      ]
    },
    {
      "cell_type": "code",
      "metadata": {
        "id": "fEVtDOS_bcbe"
      },
      "source": [
        "tf.keras.utils.plot_model(model, to_file='model.png', show_shapes=True, show_layer_names=True)"
      ],
      "execution_count": null,
      "outputs": []
    },
    {
      "cell_type": "markdown",
      "metadata": {
        "id": "NiYbBEgXQHTH"
      },
      "source": [
        "Displaying theloss value & metrics values for the model in test mode.\n",
        "\n",
        "\n"
      ]
    },
    {
      "cell_type": "code",
      "metadata": {
        "id": "o8CoyLSNbghS",
        "outputId": "9fe8de6d-d6dd-4fa9-a47b-3477606ef913",
        "colab": {
          "base_uri": "https://localhost:8080/",
          "height": 34
        }
      },
      "source": [
        "results = model.evaluate([test.U_ID, test.P_ID], test.RATING, batch_size=1)"
      ],
      "execution_count": null,
      "outputs": [
        {
          "output_type": "stream",
          "text": [
            "56818/56818 [==============================] - 40s 700us/step - loss: 7.0950 - mae: 2.0650 - mse: 7.0950\n"
          ],
          "name": "stdout"
        }
      ]
    },
    {
      "cell_type": "code",
      "metadata": {
        "id": "I0nbco7Bbxsl",
        "outputId": "66add69a-da10-4daa-f3f9-f8eb50558511",
        "colab": {
          "base_uri": "https://localhost:8080/",
          "height": 34
        }
      },
      "source": [
        "results"
      ],
      "execution_count": null,
      "outputs": [
        {
          "output_type": "execute_result",
          "data": {
            "text/plain": [
              "[7.095021724700928, 2.0649631023406982, 7.095021724700928]"
            ]
          },
          "metadata": {
            "tags": []
          },
          "execution_count": 17
        }
      ]
    },
    {
      "cell_type": "markdown",
      "metadata": {
        "id": "CopTFbLnf2JK"
      },
      "source": [
        "Retrieves a layer based on either its name (unique) or index."
      ]
    },
    {
      "cell_type": "code",
      "metadata": {
        "id": "qihjVlaib1pc",
        "outputId": "62873c99-db95-4515-98a8-f4f28958da63",
        "colab": {
          "base_uri": "https://localhost:8080/",
          "height": 284
        }
      },
      "source": [
        "#get_weights() Returns the current weights of the layer.\n",
        "product_embedding_learnt = model.get_layer(name='Product-Embedding').get_weights()[0]\n",
        "pd.DataFrame(product_embedding_learnt).describe()"
      ],
      "execution_count": null,
      "outputs": [
        {
          "output_type": "execute_result",
          "data": {
            "text/html": [
              "<div>\n",
              "<style scoped>\n",
              "    .dataframe tbody tr th:only-of-type {\n",
              "        vertical-align: middle;\n",
              "    }\n",
              "\n",
              "    .dataframe tbody tr th {\n",
              "        vertical-align: top;\n",
              "    }\n",
              "\n",
              "    .dataframe thead th {\n",
              "        text-align: right;\n",
              "    }\n",
              "</style>\n",
              "<table border=\"1\" class=\"dataframe\">\n",
              "  <thead>\n",
              "    <tr style=\"text-align: right;\">\n",
              "      <th></th>\n",
              "      <th>0</th>\n",
              "      <th>1</th>\n",
              "      <th>2</th>\n",
              "      <th>3</th>\n",
              "      <th>4</th>\n",
              "    </tr>\n",
              "  </thead>\n",
              "  <tbody>\n",
              "    <tr>\n",
              "      <th>count</th>\n",
              "      <td>105115.000000</td>\n",
              "      <td>105115.000000</td>\n",
              "      <td>105115.000000</td>\n",
              "      <td>105115.000000</td>\n",
              "      <td>105115.000000</td>\n",
              "    </tr>\n",
              "    <tr>\n",
              "      <th>mean</th>\n",
              "      <td>-0.023154</td>\n",
              "      <td>-0.291382</td>\n",
              "      <td>0.250446</td>\n",
              "      <td>-0.282059</td>\n",
              "      <td>-0.208059</td>\n",
              "    </tr>\n",
              "    <tr>\n",
              "      <th>std</th>\n",
              "      <td>0.288352</td>\n",
              "      <td>0.209021</td>\n",
              "      <td>0.232196</td>\n",
              "      <td>0.213124</td>\n",
              "      <td>0.251514</td>\n",
              "    </tr>\n",
              "    <tr>\n",
              "      <th>min</th>\n",
              "      <td>-1.171740</td>\n",
              "      <td>-1.462382</td>\n",
              "      <td>-0.913866</td>\n",
              "      <td>-1.393721</td>\n",
              "      <td>-1.185616</td>\n",
              "    </tr>\n",
              "    <tr>\n",
              "      <th>25%</th>\n",
              "      <td>-0.284525</td>\n",
              "      <td>-0.363369</td>\n",
              "      <td>0.130080</td>\n",
              "      <td>-0.361387</td>\n",
              "      <td>-0.342909</td>\n",
              "    </tr>\n",
              "    <tr>\n",
              "      <th>50%</th>\n",
              "      <td>-0.011703</td>\n",
              "      <td>-0.290651</td>\n",
              "      <td>0.282425</td>\n",
              "      <td>-0.289203</td>\n",
              "      <td>-0.271254</td>\n",
              "    </tr>\n",
              "    <tr>\n",
              "      <th>75%</th>\n",
              "      <td>0.266721</td>\n",
              "      <td>-0.210694</td>\n",
              "      <td>0.354324</td>\n",
              "      <td>-0.203514</td>\n",
              "      <td>-0.027544</td>\n",
              "    </tr>\n",
              "    <tr>\n",
              "      <th>max</th>\n",
              "      <td>1.206606</td>\n",
              "      <td>0.835379</td>\n",
              "      <td>1.355952</td>\n",
              "      <td>0.868442</td>\n",
              "      <td>0.917778</td>\n",
              "    </tr>\n",
              "  </tbody>\n",
              "</table>\n",
              "</div>"
            ],
            "text/plain": [
              "                   0              1  ...              3              4\n",
              "count  105115.000000  105115.000000  ...  105115.000000  105115.000000\n",
              "mean       -0.023154      -0.291382  ...      -0.282059      -0.208059\n",
              "std         0.288352       0.209021  ...       0.213124       0.251514\n",
              "min        -1.171740      -1.462382  ...      -1.393721      -1.185616\n",
              "25%        -0.284525      -0.363369  ...      -0.361387      -0.342909\n",
              "50%        -0.011703      -0.290651  ...      -0.289203      -0.271254\n",
              "75%         0.266721      -0.210694  ...      -0.203514      -0.027544\n",
              "max         1.206606       0.835379  ...       0.868442       0.917778\n",
              "\n",
              "[8 rows x 5 columns]"
            ]
          },
          "metadata": {
            "tags": []
          },
          "execution_count": 18
        }
      ]
    },
    {
      "cell_type": "code",
      "metadata": {
        "id": "XXzeKQfHcFot"
      },
      "source": [
        "user_embedding_learnt = model.get_layer(name='User-Embedding').get_weights()[0]"
      ],
      "execution_count": null,
      "outputs": []
    },
    {
      "cell_type": "markdown",
      "metadata": {
        "id": "IEFj-mw9QUX8"
      },
      "source": [
        "**Param** *user_id*: The unique U_ID\n",
        "\n",
        "**Param** *number_of_products*: (default = 5), The number of predictions to choose based on relevancy\n"
      ]
    },
    {
      "cell_type": "code",
      "metadata": {
        "id": "YanzeLlocIOj"
      },
      "source": [
        "def recommend(user_id, number_of_products=5):\n",
        "  products = user_embedding_learnt[user_id]@product_embedding_learnt.T\n",
        "  mids = np.argpartition(products, -number_of_products)[-number_of_products:]\n",
        "  return mids"
      ],
      "execution_count": null,
      "outputs": []
    },
    {
      "cell_type": "markdown",
      "metadata": {
        "id": "IA5IFUjyQwHs"
      },
      "source": [
        "Displaying recommendations"
      ]
    },
    {
      "cell_type": "code",
      "metadata": {
        "id": "p1GWDx_bcMUh",
        "outputId": "8f4bb4ac-eb29-4373-be12-44710571f3c6",
        "colab": {
          "base_uri": "https://localhost:8080/",
          "height": 34
        }
      },
      "source": [
        "recommend(user_id=1)"
      ],
      "execution_count": null,
      "outputs": [
        {
          "output_type": "execute_result",
          "data": {
            "text/plain": [
              "array([65285, 54908, 78052, 42177, 11872])"
            ]
          },
          "metadata": {
            "tags": []
          },
          "execution_count": 23
        }
      ]
    },
    {
      "cell_type": "code",
      "metadata": {
        "id": "oYV8ad06cQTU",
        "outputId": "8b46daea-0451-4e25-cf81-609896a45418",
        "colab": {
          "base_uri": "https://localhost:8080/",
          "height": 34
        }
      },
      "source": [
        "recommend(user_id=600)"
      ],
      "execution_count": null,
      "outputs": [
        {
          "output_type": "execute_result",
          "data": {
            "text/plain": [
              "array([51016, 44311, 43112, 71816, 57659])"
            ]
          },
          "metadata": {
            "tags": []
          },
          "execution_count": 22
        }
      ]
    }
  ]
}